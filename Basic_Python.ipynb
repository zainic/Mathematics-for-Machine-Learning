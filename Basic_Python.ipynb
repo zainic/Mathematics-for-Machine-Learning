{
  "nbformat": 4,
  "nbformat_minor": 0,
  "metadata": {
    "colab": {
      "name": "Super_Basic_Python.ipynb",
      "provenance": []
    },
    "kernelspec": {
      "name": "python3",
      "display_name": "Python 3"
    },
    "language_info": {
      "name": "python"
    }
  },
  "cells": [
    {
      "cell_type": "markdown",
      "source": [
        "Data type"
      ],
      "metadata": {
        "id": "qKk7Sj54zP8r"
      }
    },
    {
      "cell_type": "code",
      "source": [
        "a = 10\n",
        "b = 2.0\n",
        "c = \"string\"\n",
        "d = [1, 3, 4]\n",
        "e = (1, 2)\n",
        "f = {\"name\" : \"dani\", \"age\" : 18}\n",
        "\n",
        "print(type(a))\n",
        "print(type(b))\n",
        "print(type(c))\n",
        "print(type(d))\n",
        "print(type(e))\n",
        "\n",
        "print(type(f))"
      ],
      "metadata": {
        "colab": {
          "base_uri": "https://localhost:8080/"
        },
        "id": "eoGQhWxozTF1",
        "outputId": "abc17f86-5426-4d5f-fe9f-054fc26e1816"
      },
      "execution_count": null,
      "outputs": [
        {
          "output_type": "stream",
          "name": "stdout",
          "text": [
            "<class 'int'>\n",
            "<class 'float'>\n",
            "<class 'str'>\n",
            "<class 'list'>\n",
            "<class 'tuple'>\n",
            "<class 'dict'>\n"
          ]
        }
      ]
    },
    {
      "cell_type": "code",
      "source": [
        "\"\"\"Konversi tipe data\"\"\"\n",
        "num = 20\n",
        "print(type(num))\n",
        "str_num = str(num)\n",
        "print(type(str_num))\n",
        "\n",
        "str_1 = \"30\"\n",
        "num_1 = int(str_1)\n",
        "print(type(num_1))"
      ],
      "metadata": {
        "colab": {
          "base_uri": "https://localhost:8080/"
        },
        "id": "vC9PsNgZ0UQX",
        "outputId": "9970f331-7ddb-457e-b583-8ece56aa30b2"
      },
      "execution_count": null,
      "outputs": [
        {
          "output_type": "stream",
          "name": "stdout",
          "text": [
            "<class 'int'>\n",
            "<class 'str'>\n",
            "<class 'int'>\n"
          ]
        }
      ]
    },
    {
      "cell_type": "code",
      "source": [
        "str_2 = \"a\"\n",
        "num_2 = int(str_2)\n",
        "print(type(num_2))"
      ],
      "metadata": {
        "colab": {
          "base_uri": "https://localhost:8080/",
          "height": 208
        },
        "id": "zNPMz9Uz0tIE",
        "outputId": "a20cba3c-851b-49d0-8eee-7b494df434fb"
      },
      "execution_count": null,
      "outputs": [
        {
          "output_type": "error",
          "ename": "ValueError",
          "evalue": "ignored",
          "traceback": [
            "\u001b[0;31m---------------------------------------------------------------------------\u001b[0m",
            "\u001b[0;31mValueError\u001b[0m                                Traceback (most recent call last)",
            "\u001b[0;32m<ipython-input-51-d920340f35ff>\u001b[0m in \u001b[0;36m<module>\u001b[0;34m()\u001b[0m\n\u001b[1;32m      1\u001b[0m \u001b[0mstr_2\u001b[0m \u001b[0;34m=\u001b[0m \u001b[0;34m\"a\"\u001b[0m\u001b[0;34m\u001b[0m\u001b[0;34m\u001b[0m\u001b[0m\n\u001b[0;32m----> 2\u001b[0;31m \u001b[0mnum_2\u001b[0m \u001b[0;34m=\u001b[0m \u001b[0mint\u001b[0m\u001b[0;34m(\u001b[0m\u001b[0mstr_2\u001b[0m\u001b[0;34m)\u001b[0m\u001b[0;34m\u001b[0m\u001b[0;34m\u001b[0m\u001b[0m\n\u001b[0m\u001b[1;32m      3\u001b[0m \u001b[0mprint\u001b[0m\u001b[0;34m(\u001b[0m\u001b[0mtype\u001b[0m\u001b[0;34m(\u001b[0m\u001b[0mnum_2\u001b[0m\u001b[0;34m)\u001b[0m\u001b[0;34m)\u001b[0m\u001b[0;34m\u001b[0m\u001b[0;34m\u001b[0m\u001b[0m\n",
            "\u001b[0;31mValueError\u001b[0m: invalid literal for int() with base 10: 'a'"
          ]
        }
      ]
    },
    {
      "cell_type": "markdown",
      "source": [
        "Basic Operation in python"
      ],
      "metadata": {
        "id": "XwBDQy3FfHN-"
      }
    },
    {
      "cell_type": "code",
      "execution_count": null,
      "metadata": {
        "colab": {
          "base_uri": "https://localhost:8080/"
        },
        "id": "cScsbI6Gbgjf",
        "outputId": "469de59e-6fc6-4ae2-bfd9-22c02eabee0b"
      },
      "outputs": [
        {
          "output_type": "stream",
          "name": "stdout",
          "text": [
            "8\n",
            "2\n",
            "15\n",
            "1.6666666666666667\n",
            "125\n",
            "1\n",
            "2\n"
          ]
        }
      ],
      "source": [
        "a = 5\n",
        "b = 3\n",
        "\n",
        "print(a + b)  # penjumlahan\n",
        "print(a - b)  # pengurangan\n",
        "print(a * b)  # perkalian\n",
        "print(a / b)  # pembagian\n",
        "print(a ** b) # perpangkatan\n",
        "print(a // b) # pembagian dengan pembulatan kebawah\n",
        "print(a % b)  # modulo"
      ]
    },
    {
      "cell_type": "markdown",
      "source": [
        " Basic String"
      ],
      "metadata": {
        "id": "00r7QFaviuxU"
      }
    },
    {
      "cell_type": "code",
      "source": [
        "\"\"\"Intro to String\"\"\"\n",
        "a = \"Hello\"\n",
        "b = \"World\"\n",
        "\n",
        "print(a + b)        # Menggabungkan 2 string\n",
        "print(a + \" \" + b)  # Menggabungkan 3 string\n",
        "print(a[2])         # Huruf ke-3\n",
        "print(a[:2])        # Sampai huruf ke-2 \n",
        "print(a[2:])        # Huruf ke-3 dan seterusnya\n",
        "print(a[1:3])       # huruf ke-2 sampai ke-3"
      ],
      "metadata": {
        "colab": {
          "base_uri": "https://localhost:8080/"
        },
        "id": "auLlyZ7pjFcL",
        "outputId": "103342a6-8af0-4097-d2b1-548518807153"
      },
      "execution_count": null,
      "outputs": [
        {
          "output_type": "stream",
          "name": "stdout",
          "text": [
            "HelloWorld\n",
            "Hello World\n",
            "l\n",
            "He\n",
            "llo\n",
            "el\n"
          ]
        }
      ]
    },
    {
      "cell_type": "code",
      "source": [
        "\"\"\"String Attribute\"\"\"\n",
        "sentence = \"Ini Merupakan Kalimat Dengan Beberapa Kata\"\n",
        "\n",
        "print(sentence.lower())\n",
        "print(sentence.upper())\n",
        "print(sentence.capitalize())\n",
        "print(sentence.count(\"a\"))\n",
        "print(sentence.count(\"at\"))\n",
        "print(sentence.split(\" \"))\n",
        "print(sentence.split(\"a\"))"
      ],
      "metadata": {
        "colab": {
          "base_uri": "https://localhost:8080/"
        },
        "id": "HcpOov1Yk-m5",
        "outputId": "d20c35e7-69ad-4980-ecba-801334d02ebd"
      },
      "execution_count": null,
      "outputs": [
        {
          "output_type": "stream",
          "name": "stdout",
          "text": [
            "ini merupakan kalimat dengan beberapa kata\n",
            "INI MERUPAKAN KALIMAT DENGAN BEBERAPA KATA\n",
            "Ini merupakan kalimat dengan beberapa kata\n",
            "9\n",
            "2\n",
            "['Ini', 'Merupakan', 'Kalimat', 'Dengan', 'Beberapa', 'Kata']\n",
            "['Ini Merup', 'k', 'n K', 'lim', 't Deng', 'n Beber', 'p', ' K', 't', '']\n"
          ]
        }
      ]
    },
    {
      "cell_type": "code",
      "source": [
        "\"\"\"Formating\"\"\"\n",
        "\n",
        "name = \"Dani\"\n",
        "weight = 50\n",
        "print(\"{} memiliki berat badan {} kg\".format(name, weight)) # cara baru\n",
        "print(\"%s memiliki berat badan %d kg\" % (name, weight)) # cara lama\n"
      ],
      "metadata": {
        "colab": {
          "base_uri": "https://localhost:8080/"
        },
        "id": "KOgiX68YlLm-",
        "outputId": "706d585c-54ce-4aee-c7fc-7c685bb06cec"
      },
      "execution_count": null,
      "outputs": [
        {
          "output_type": "stream",
          "name": "stdout",
          "text": [
            "Dani memiliki berat badan 50 kg\n",
            "Dani memiliki berat badan 50 kg\n"
          ]
        }
      ]
    },
    {
      "cell_type": "markdown",
      "source": [
        "List, Tuple, Dictionary"
      ],
      "metadata": {
        "id": "ITnSpnwmmk6Q"
      }
    },
    {
      "cell_type": "code",
      "source": [
        "\"\"\"Introduction\"\"\"\n",
        "List = [1, 2, 3, 2, 3, 4, 5]                    # mutable\n",
        "Tuple = (1, 2, 4)                               # immutable\n",
        "Dictionary = {\"name\" : \"Dani\", \n",
        "              \"weight\" : 50,\n",
        "              \"age\" : 18\n",
        "              }   # mutable\n",
        "\n",
        "print(List[1])\n",
        "print(Tuple[2])\n",
        "print(Dictionary[\"name\"])"
      ],
      "metadata": {
        "colab": {
          "base_uri": "https://localhost:8080/"
        },
        "id": "Jk2WH95Kmkee",
        "outputId": "7ca19007-39a9-4adc-f8f8-d3556d8bedc9"
      },
      "execution_count": null,
      "outputs": [
        {
          "output_type": "stream",
          "name": "stdout",
          "text": [
            "2\n",
            "4\n",
            "Dani\n"
          ]
        }
      ]
    },
    {
      "cell_type": "code",
      "source": [
        "\"\"\"Immutable means\"\"\"\n",
        "Tuple[2] = 3\n",
        "print(Tuple)"
      ],
      "metadata": {
        "colab": {
          "base_uri": "https://localhost:8080/",
          "height": 190
        },
        "id": "h6_aOhignsbL",
        "outputId": "3f3d1651-3bb4-476a-f0fb-c3a98ea3a7ac"
      },
      "execution_count": null,
      "outputs": [
        {
          "output_type": "error",
          "ename": "TypeError",
          "evalue": "ignored",
          "traceback": [
            "\u001b[0;31m---------------------------------------------------------------------------\u001b[0m",
            "\u001b[0;31mTypeError\u001b[0m                                 Traceback (most recent call last)",
            "\u001b[0;32m<ipython-input-19-f07c50601b81>\u001b[0m in \u001b[0;36m<module>\u001b[0;34m()\u001b[0m\n\u001b[0;32m----> 1\u001b[0;31m \u001b[0mTuple\u001b[0m\u001b[0;34m[\u001b[0m\u001b[0;36m2\u001b[0m\u001b[0;34m]\u001b[0m \u001b[0;34m=\u001b[0m \u001b[0;36m3\u001b[0m\u001b[0;34m\u001b[0m\u001b[0;34m\u001b[0m\u001b[0m\n\u001b[0m\u001b[1;32m      2\u001b[0m \u001b[0mprint\u001b[0m\u001b[0;34m(\u001b[0m\u001b[0mTuple\u001b[0m\u001b[0;34m)\u001b[0m\u001b[0;34m\u001b[0m\u001b[0;34m\u001b[0m\u001b[0m\n",
            "\u001b[0;31mTypeError\u001b[0m: 'tuple' object does not support item assignment"
          ]
        }
      ]
    },
    {
      "cell_type": "code",
      "source": [
        "\"\"\"Configure List\"\"\"\n",
        "\n",
        "list_number = [1,4,3,5,7]\n",
        "list_name = [\"Dani\", \"Arul\", \"Gesang\"]\n",
        "\n",
        "print(sorted(list_number))      # Mengurutkan list berdasarkan angka\n",
        "print(sorted(list_name))        # Mengurutkan list berdasarkan abjad\n",
        "print(list_number[1:3])         # List ke-1 sampai 3\n",
        "print(list_number[:-1])         # List ke-1 dari belakang"
      ],
      "metadata": {
        "colab": {
          "base_uri": "https://localhost:8080/"
        },
        "id": "HboQ4fV8oFSQ",
        "outputId": "3421a944-dccf-4ebf-9eaf-5595949c286d"
      },
      "execution_count": null,
      "outputs": [
        {
          "output_type": "stream",
          "name": "stdout",
          "text": [
            "[1, 3, 4, 5, 7]\n",
            "['Arul', 'Dani', 'Gesang']\n",
            "[4, 3]\n",
            "[1, 4, 3, 5]\n"
          ]
        }
      ]
    },
    {
      "cell_type": "code",
      "source": [
        "\"\"\"Append List\"\"\"\n",
        "\n",
        "list_number = [1,2,5,7,4]\n",
        "list_number.append(100)\n",
        "print(list_number)\n",
        "list_number.insert(1, 10)\n",
        "print(list_number)\n",
        "list_number.pop(0)\n",
        "print(list_number)"
      ],
      "metadata": {
        "colab": {
          "base_uri": "https://localhost:8080/"
        },
        "id": "4Sy2MEyvpq7n",
        "outputId": "d8454e9c-69b7-49d0-839f-539cf6f3ce02"
      },
      "execution_count": null,
      "outputs": [
        {
          "output_type": "stream",
          "name": "stdout",
          "text": [
            "[1, 2, 5, 7, 4, 100]\n",
            "[1, 10, 2, 5, 7, 4, 100]\n",
            "[10, 2, 5, 7, 4, 100]\n"
          ]
        }
      ]
    },
    {
      "cell_type": "markdown",
      "source": [
        "Conditional (If, else, elif)"
      ],
      "metadata": {
        "id": "dOg00xRrp5_Z"
      }
    },
    {
      "cell_type": "code",
      "source": [
        "\"\"\"Example\"\"\"\n",
        "\n",
        "a = 2\n",
        "b = 3\n",
        "\n",
        "if a > b:\n",
        "  print(\"{} lebih besar daripada {}\".format(a,b))\n",
        "else:\n",
        "  print(\"{} lebih kecil daripada {}\".format(a,b))"
      ],
      "metadata": {
        "colab": {
          "base_uri": "https://localhost:8080/"
        },
        "id": "QUKqtBd_p5d4",
        "outputId": "0e4ca59f-9b06-433b-b06e-fa029f109922"
      },
      "execution_count": null,
      "outputs": [
        {
          "output_type": "stream",
          "name": "stdout",
          "text": [
            "2 lebih kecil daripada 3\n"
          ]
        }
      ]
    },
    {
      "cell_type": "code",
      "source": [
        "\"\"\"More Example\"\"\"\n",
        "\n",
        "score = 59\n",
        "\n",
        "if score > 80:\n",
        "  print(\"Nilai A\")\n",
        "elif score <= 80 and score > 70:\n",
        "  print(\"Nilai B\")\n",
        "elif score <= 70 and score > 60:\n",
        "  print(\"Nilai C\")\n",
        "else:\n",
        "  print(\"Nilai D\")"
      ],
      "metadata": {
        "colab": {
          "base_uri": "https://localhost:8080/"
        },
        "id": "TNz-cGFoqa2u",
        "outputId": "7aa0d4bf-f0ed-4bbf-c343-a888d89d0fca"
      },
      "execution_count": null,
      "outputs": [
        {
          "output_type": "stream",
          "name": "stdout",
          "text": [
            "Nilai D\n"
          ]
        }
      ]
    },
    {
      "cell_type": "code",
      "source": [
        "\"\"\"One Line conditional example\"\"\"\n",
        "\n",
        "fruit = \"apple\"\n",
        "\n",
        "# (perintah jika benar) if (statement) else (perintah jika salah)\n",
        "print(\"yes\") if fruit == \"apple\" else print(\"no\")\n",
        "\n",
        "# [(nilai jika salah), (nilai jika benar)][statement]\n",
        "print([\"no\",\"yes\"][fruit == \"apple\"])"
      ],
      "metadata": {
        "colab": {
          "base_uri": "https://localhost:8080/"
        },
        "id": "IUzOb3rVq-oB",
        "outputId": "074f8baf-f031-4dd6-9083-9996c2ae958d"
      },
      "execution_count": null,
      "outputs": [
        {
          "output_type": "stream",
          "name": "stdout",
          "text": [
            "yes\n",
            "yes\n"
          ]
        }
      ]
    },
    {
      "cell_type": "markdown",
      "source": [
        "Loops"
      ],
      "metadata": {
        "id": "POKfPH9Frvu_"
      }
    },
    {
      "cell_type": "code",
      "source": [
        "\"\"\"While loops\"\"\"\n",
        "\n",
        "i = 0\n",
        "while i <= 5:\n",
        "  print(i)\n",
        "  i = i + 1 # i += 1"
      ],
      "metadata": {
        "colab": {
          "base_uri": "https://localhost:8080/"
        },
        "id": "U0eJK2-1rxwf",
        "outputId": "829629b5-ae86-4961-a95d-141ce933ca05"
      },
      "execution_count": null,
      "outputs": [
        {
          "output_type": "stream",
          "name": "stdout",
          "text": [
            "0\n",
            "1\n",
            "2\n",
            "3\n",
            "4\n",
            "5\n"
          ]
        }
      ]
    },
    {
      "cell_type": "code",
      "source": [
        "\"\"\"For loops\"\"\"\n",
        "\n",
        "# range(5) = [0,1,2,3,4]\n",
        "list_a = [1,5,7,4,7,4,2,6]\n",
        "for i in list_a:\n",
        "  print(i)"
      ],
      "metadata": {
        "colab": {
          "base_uri": "https://localhost:8080/"
        },
        "id": "R6AYwlObr0Te",
        "outputId": "aa082730-a9da-4e55-e97b-01ae0584bbc6"
      },
      "execution_count": null,
      "outputs": [
        {
          "output_type": "stream",
          "name": "stdout",
          "text": [
            "1\n",
            "5\n",
            "7\n",
            "4\n",
            "7\n",
            "4\n",
            "2\n",
            "6\n"
          ]
        }
      ]
    },
    {
      "cell_type": "code",
      "source": [
        "\"\"\"More For loops\"\"\"\n",
        "\n",
        "number_list = [1,3,5,6]\n",
        "name_list = [\"Dani\", \"Arul\", \"Gesang\", \"Zibran\"]\n",
        "\n",
        "print(\"Cetak elemen-elemen pada number_list\")\n",
        "for number in number_list:\n",
        "  print(number)\n",
        "print()\n",
        "\n",
        "print(\"Cetak elemen-elemen pada name_list\")\n",
        "for i in name_list:\n",
        "  print(i)\n",
        "print()\n",
        "\n",
        "print(\"Cetak gabungan dari kedua list\")\n",
        "for name, number in zip(name_list, number_list):\n",
        "  print(\"{} mendapatkan angka {}\".format(name, number))\n",
        "print()\n",
        "\n",
        "print(\"Cetak elemen-elemen pada name_list dan index dari name_list\")\n",
        "for i, name in enumerate(name_list):\n",
        "  print(\"{}.) {}\".format(i+1, name))\n",
        "print()"
      ],
      "metadata": {
        "colab": {
          "base_uri": "https://localhost:8080/"
        },
        "id": "6Vyes5Tzu-b0",
        "outputId": "b2e06592-ea5b-4055-9700-6ab9ef9599cf"
      },
      "execution_count": null,
      "outputs": [
        {
          "output_type": "stream",
          "name": "stdout",
          "text": [
            "Cetak elemen-elemen pada number_list\n",
            "1\n",
            "3\n",
            "5\n",
            "6\n",
            "\n",
            "Cetak elemen-elemen pada name_list\n",
            "Dani\n",
            "Arul\n",
            "Gesang\n",
            "Zibran\n",
            "\n",
            "Cetak gabungan dari kedua list\n",
            "Dani mendapatkan angka 1\n",
            "Arul mendapatkan angka 3\n",
            "Gesang mendapatkan angka 5\n",
            "Zibran mendapatkan angka 6\n",
            "\n",
            "Cetak elemen-elemen pada name_list dan index dari name_list\n",
            "1.) Dani\n",
            "2.) Arul\n",
            "3.) Gesang\n",
            "4.) Zibran\n",
            "\n"
          ]
        }
      ]
    },
    {
      "cell_type": "code",
      "source": [
        ""
      ],
      "metadata": {
        "id": "ucbGA4RfESqa"
      },
      "execution_count": null,
      "outputs": []
    },
    {
      "cell_type": "markdown",
      "source": [
        "Function"
      ],
      "metadata": {
        "id": "3z2Wkb1ZsIhN"
      }
    },
    {
      "cell_type": "code",
      "source": [
        "\"\"\"Without return value\"\"\"\n",
        "\n",
        "def fun(name, height):\n",
        "  print(\"{} memiliki tinggi {} cm\".format(name, height))\n",
        "\n",
        "fun(\"Dani\", 166)\n",
        "print(fun(\"Arul\", 164))\n"
      ],
      "metadata": {
        "colab": {
          "base_uri": "https://localhost:8080/"
        },
        "id": "UkWwO476r_91",
        "outputId": "1d57e5b4-9cd7-4d97-fb91-9776e36ef14b"
      },
      "execution_count": null,
      "outputs": [
        {
          "output_type": "stream",
          "name": "stdout",
          "text": [
            "Dani memiliki tinggi 166 cm\n",
            "Arul memiliki tinggi 164 cm\n",
            "None\n"
          ]
        }
      ]
    },
    {
      "cell_type": "code",
      "source": [
        "\"\"\"With return value\"\"\"\n",
        "\n",
        "def factorial(n):\n",
        "  result = 1\n",
        "  for i in range(1, n+1):\n",
        "    result *= i\n",
        "  return result\n",
        "\n",
        "print(factorial(3))\n",
        "print(factorial(0))\n",
        "print(factorial(6))\n",
        "print(factorial(20))"
      ],
      "metadata": {
        "colab": {
          "base_uri": "https://localhost:8080/"
        },
        "id": "avdOx3rjsKmA",
        "outputId": "8fe99f75-7135-4de3-ed8e-b4a66796282f"
      },
      "execution_count": null,
      "outputs": [
        {
          "output_type": "stream",
          "name": "stdout",
          "text": [
            "6\n",
            "1\n",
            "720\n",
            "2432902008176640000\n"
          ]
        }
      ]
    },
    {
      "cell_type": "markdown",
      "source": [
        "Class"
      ],
      "metadata": {
        "id": "o9Tvt3_8sLAo"
      }
    },
    {
      "cell_type": "code",
      "source": [
        "\"\"\"Very simple class\"\"\"\n",
        "\n",
        "class Name:\n",
        "  pass\n",
        "\n",
        "name = Name()"
      ],
      "metadata": {
        "id": "HAn-Uu71xIns"
      },
      "execution_count": null,
      "outputs": []
    },
    {
      "cell_type": "code",
      "source": [
        "\"\"\"Attribute\"\"\"\n",
        "class Name:\n",
        "  first_name = \"Rafi\"\n",
        "  last_name = \"Achmad\"\n",
        "\n",
        "name = Name()\n",
        "print(name.first_name)\n",
        "print(name.last_name)\n"
      ],
      "metadata": {
        "colab": {
          "base_uri": "https://localhost:8080/"
        },
        "id": "TA5hpnVFxUB-",
        "outputId": "a6313837-b5b6-4c54-af98-83565344ad1b"
      },
      "execution_count": null,
      "outputs": [
        {
          "output_type": "stream",
          "name": "stdout",
          "text": [
            "Rafi\n",
            "Achmad\n"
          ]
        }
      ]
    },
    {
      "cell_type": "code",
      "source": [
        ""
      ],
      "metadata": {
        "id": "29AU3z74EVM8"
      },
      "execution_count": null,
      "outputs": []
    }
  ]
}